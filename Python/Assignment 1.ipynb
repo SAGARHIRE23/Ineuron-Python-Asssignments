{
 "cells": [
  {
   "cell_type": "markdown",
   "id": "65e74e59",
   "metadata": {},
   "source": [
    "1. In the below elements which of them are values or an expression? eg:- values can be integer or string and expressions will be mathematical operators.\n",
    "* \n",
    "'hello' => value\n",
    "-87.8   => value\n",
    "-       => expression\n",
    "/       => expression\n",
    "+\t    => expression\n",
    "6       => value\n"
   ]
  },
  {
   "cell_type": "markdown",
   "id": "49edbd5e",
   "metadata": {},
   "source": [
    "2. What is the difference between string and variable?\n",
    "   <br> string  </br>                                                             \n",
    "   <br>string is a object which is made up of sequence of characters </br>\n",
    "   <br>string is immutable.</br>\n",
    "   <br>string is object of class ( reference type)</br>\n",
    "   <br>string value and reference is stored on stack and its object is reside on heap</br>\n",
    "   \n",
    "   <br>variable</br> \n",
    "   <br>variable are temporary storage (in context of program execution)</br> \n",
    "   <br>value of variable can be changed at in anywhere in program                                                                   workflow.</br> \n",
    "    <br>Variable is value type.</br> \n",
    "    <br>variable value is stored on Stack, and it is cleared after program is terminated.</br> \n",
    "\n",
    "\n",
    "\n",
    "                                                                     "
   ]
  },
  {
   "cell_type": "markdown",
   "id": "5e11a280",
   "metadata": {},
   "source": [
    "3. Describe three different data types.\n",
    "\n",
    "   int , float, string, "
   ]
  },
  {
   "cell_type": "markdown",
   "id": "649f47a5",
   "metadata": {},
   "source": [
    "4. What is an expression made up of? What do all expressions do?\n",
    "\n",
    "   Expression is a combination of operands and operators to achieve some logic in output."
   ]
  },
  {
   "cell_type": "markdown",
   "id": "be3c6632",
   "metadata": {},
   "source": [
    "5. This assignment statements, like spam = 10. What is the difference between an expression and a statement?\n",
    "\n",
    "  expression evaluates ( performs operation on operands based on operators), statement is nothing but plain string describing \n",
    "  some info about code."
   ]
  },
  {
   "cell_type": "markdown",
   "id": "89ea51c4",
   "metadata": {},
   "source": [
    "6. After running the following code, what does the variable bacon contain?\n",
    "<br>bacon = 22 </br>\n",
    "<br>bacon + 1  \n",
    "<br>output : 23 </br>\n",
    "<br>it contains integer</br>"
   ]
  },
  {
   "cell_type": "markdown",
   "id": "c8bff89d",
   "metadata": {},
   "source": [
    "7. What should the values of the following two terms be?\n",
    "   <br>'spam' + 'spamspam'  = 'spamspamspam'</br>\n",
    "   <br>'spam' * 3 = 'spamsapmspam'</br>\n"
   ]
  },
  {
   "cell_type": "markdown",
   "id": "e365d44f",
   "metadata": {},
   "source": [
    "8. Why is eggs a valid variable name while 100 is invalid?</br>\n",
    "   <br>Because variable name can not start with digit,it can onlu start with  alphabate or _"
   ]
  },
  {
   "cell_type": "markdown",
   "id": "754d306a",
   "metadata": {},
   "source": [
    "9. What three functions can be used to get the integer, floating-point number, or string version of a value?</br>\n",
    "   <br>int for integer</br>\n",
    "   <br>float for floating point number</br>\n",
    "   <br>string for string value</br>"
   ]
  },
  {
   "cell_type": "markdown",
   "id": "ed8b284f",
   "metadata": {},
   "source": [
    "10. Why does this expression cause an error? How can you fix it?</br>\n",
    "    <br>'I have eaten ' + 99 + ' burritos.'</br>\n",
    "\n",
    "    <br>Because we cant add string and integer in Python </br>\n",
    "    <br>we can fix it by formatting the string like below</br>\n",
    "    <br>'I have eaten  {}  burritos.'.format(99)</br>\n",
    "    <br>or </br>\n",
    "    <br>'I have eaten ' + str(99) + ' burritos.'</br>\n",
    "\n"
   ]
  },
  {
   "cell_type": "code",
   "execution_count": null,
   "id": "6a902eb0",
   "metadata": {},
   "outputs": [],
   "source": []
  },
  {
   "cell_type": "code",
   "execution_count": null,
   "id": "b4c8a1f7",
   "metadata": {},
   "outputs": [],
   "source": []
  }
 ],
 "metadata": {
  "kernelspec": {
   "display_name": "Python 3",
   "language": "python",
   "name": "python3"
  },
  "language_info": {
   "codemirror_mode": {
    "name": "ipython",
    "version": 3
   },
   "file_extension": ".py",
   "mimetype": "text/x-python",
   "name": "python",
   "nbconvert_exporter": "python",
   "pygments_lexer": "ipython3",
   "version": "3.8.8"
  }
 },
 "nbformat": 4,
 "nbformat_minor": 5
}
