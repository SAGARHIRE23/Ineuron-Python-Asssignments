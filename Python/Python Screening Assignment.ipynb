{
 "cells": [
  {
   "cell_type": "code",
   "execution_count": 1,
   "id": "d49c5ed8",
   "metadata": {},
   "outputs": [],
   "source": [
    "import logging\n",
    "class FileOperations:\n",
    "    '''\n",
    "        Constructor Signature: Filepath should be provided while instancetiating FileOperations object\n",
    "        eg=> obj=FileOperations(r'filepath')\n",
    "        \n",
    "        Methods=>\n",
    "        ReplaceSomeText =>  this Method reads file content and update file filecontent. file is not updated in this function.\n",
    "        \n",
    "        ModifyFileWithReplacedText  => this Method reads file content and update file filecontent. \n",
    "        file is updated in this function with updated content\n",
    "    '''\n",
    "    filePath=None\n",
    "    FileContent=None\n",
    "    logging.basicConfig(filename = \"FileOperations.log\" , level = logging.DEBUG , format ='%(asctime)s %(levelname)s %(message)s' )\n",
    "    def __init__(self, filePath):\n",
    "        try:\n",
    "            self.filePath= filePath\n",
    "            with open(filePath,'r') as file:\n",
    "                self.FileContent=file.read()\n",
    "        except Exception as ex:\n",
    "            logging.error('FileOperations : Operation Failed. Exception : {}'.format(str(ex)))\n",
    "            print('FileOperations : Operation Failed. Exception : {}'.format(str(ex)))\n",
    "             \n",
    "               \n",
    "    def ReplaceSomeText(self,texToBeReplace, replacementText):\n",
    "        '''\n",
    "        Parameters: \n",
    "        texToBeReplace   => string/text which needs to be replace\n",
    "        replacementText  => ReplacementText\n",
    "        ReplaceSomeText function reads the File content from specified path and replace the readed content with replacement Text. \n",
    "        No File modification is performed. \n",
    "        '''\n",
    "        logging.info('ReplaceSomeText is called to Replace {}  with  {}'.format(texToBeReplace,replacementText))\n",
    "        try:\n",
    "            with open(self.filePath,'r') as file:\n",
    "                self.FileContent=file.read()\n",
    "            FileContent=self.FileContent\n",
    "            logging.info('ReplaceSomeText: FileCotent post replacement is {}'.format(FileContent))\n",
    "            return FileContent.replace(texToBeReplace,replacementText)\n",
    "        except Exception as ex:\n",
    "            logging.info('ReplaceSomeText: Operation Failed. Exception : {}'.format(str(ex)))\n",
    "            return 'ReplaceSomeText: Operation Failed. Exception : {}'.format(str(ex))\n",
    "    \n",
    "    def ModifyFileWithReplacedText(self,texToBeReplace, replacementText):\n",
    "        '''\n",
    "        Parameters: \n",
    "        texToBeReplace   => string/text which needs to be replace\n",
    "        replacementText  => ReplacementText\n",
    "        ReplaceSomeText function reads the File content from specified path and replace the readed content with replacement Text. \n",
    "        actual modification is performed. file content will be replaced with updated file content (with replacement)\n",
    "        '''\n",
    "        logging.info('ModifyFileWithReplacedText is called to Replace {}  with  {}'.format(texToBeReplace,replacementText))\n",
    "        try:\n",
    "            with open(self.filePath,'r') as file:\n",
    "                self.FileContent=file.read()\n",
    "            open (self.filePath,'w').close()\n",
    "            logging.info('ModifyFileWithReplacedText : File Content is cleared for file {}'.format(self.filePath))\n",
    "            with open (self.filePath,'w') as file:\n",
    "                self.FileContent=self.FileContent.replace(texToBeReplace,replacementText)\n",
    "                file.write(self.FileContent)\n",
    "            logging.info('ModifyFileWithReplacedText : Operation completed : File {} is updated with updated Text.'.format(self.filePath))\n",
    "            return self.FileContent\n",
    "        except Exception as ex:\n",
    "            logging.info('ModifyFileWithReplacedText: Operation Failed. Exception : {}'.format(str(ex)))\n",
    "            return 'ModifyFileWithReplacedText: Operation Failed. Exception : {}'.format(str(ex))\n",
    "    "
   ]
  },
  {
   "cell_type": "code",
   "execution_count": 2,
   "id": "25a23b7b",
   "metadata": {},
   "outputs": [],
   "source": [
    "## Initialize object\n",
    "obj=FileOperations(r'C:\\Users\\sagar.hire\\Desktop\\Hook config changes.txt')\n"
   ]
  },
  {
   "cell_type": "code",
   "execution_count": 3,
   "id": "5b4f4c2a",
   "metadata": {},
   "outputs": [
    {
     "data": {
      "text/plain": [
       "'This is a screening assignment'"
      ]
     },
     "execution_count": 3,
     "metadata": {},
     "output_type": "execute_result"
    }
   ],
   "source": [
    "## method ReplaceSomeText : for getting updated text with replacement without actuall file modification\n",
    "obj.ReplaceSomeText(\"Placement\",\"screening\")"
   ]
  },
  {
   "cell_type": "code",
   "execution_count": 4,
   "id": "d8b35e3a",
   "metadata": {},
   "outputs": [
    {
     "data": {
      "text/plain": [
       "'This is a screening assignment'"
      ]
     },
     "execution_count": 4,
     "metadata": {},
     "output_type": "execute_result"
    }
   ],
   "source": [
    "## method ModifyFileWithReplacedText : for getting updated text with replacement with actuall file modification\n",
    "obj.ModifyFileWithReplacedText(\"placement\",\"screening\")"
   ]
  },
  {
   "cell_type": "code",
   "execution_count": 5,
   "id": "cccbf766",
   "metadata": {},
   "outputs": [
    {
     "data": {
      "text/plain": [
       "'This is a screening assignment'"
      ]
     },
     "execution_count": 5,
     "metadata": {},
     "output_type": "execute_result"
    }
   ],
   "source": [
    "## fileContent\n",
    "obj.FileContent"
   ]
  },
  {
   "cell_type": "code",
   "execution_count": 6,
   "id": "c521785b",
   "metadata": {},
   "outputs": [
    {
     "name": "stdout",
     "output_type": "stream",
     "text": [
      "FileOperations : Operation Failed. Exception : [Errno 2] No such file or directory: 'C:\\\\Users\\\\sagar.hire\\\\1.txt'\n"
     ]
    }
   ],
   "source": [
    "#Exception handling\n",
    "obj=FileOperations(r'C:\\Users\\sagar.hire\\1.txt')\n",
    "\n",
    "#logging.shutdown()"
   ]
  },
  {
   "cell_type": "code",
   "execution_count": null,
   "id": "fdbc3892",
   "metadata": {},
   "outputs": [],
   "source": []
  },
  {
   "cell_type": "markdown",
   "id": "49a15cff",
   "metadata": {},
   "source": [
    "# Abstract Class:\n",
    "An Abstract class is the classs which contains one or more abstract methods. abstract method is the metho which is just defined\n",
    "but not implemented.\n",
    "Abstract class basically acts as a contract/blueprint for other classes(set of methods child class has to implement)\n",
    "basically it is a common interface for deifferent implementation of components."
   ]
  },
  {
   "cell_type": "code",
   "execution_count": 7,
   "id": "2a6900aa",
   "metadata": {},
   "outputs": [],
   "source": [
    "# Demo of Abstract class\n",
    "from abc import ABC,abstractmethod\n",
    "\n",
    "class Car(ABC):\n",
    "    \n",
    "    @abstractmethod\n",
    "    def VehicleType():\n",
    "        pass\n",
    "    \n",
    "    @abstractmethod\n",
    "    def Mileage(self):\n",
    "        pass\n",
    "\n",
    "\n",
    "    \n",
    "    "
   ]
  },
  {
   "cell_type": "code",
   "execution_count": 8,
   "id": "52e3c8d2",
   "metadata": {},
   "outputs": [],
   "source": [
    "#Class PetrolOrDieselCar\n",
    "class PetrolOrDieselCar(Car):\n",
    "    typeofVehicle=\"Petrol_or_Diesel_Car\"\n",
    "    \n",
    "    def __init__(self,CostofPretol,KilometersDriven):\n",
    "        self.CostofPrtrol=CostofPretol\n",
    "        self.KilometersDriven=KilometersDriven\n",
    "        \n",
    "    def Mileage(self):\n",
    "        if self.KilometersDriven<1001:\n",
    "            print(f'per KM Mileage of petrol car driven less than 1000 km is :{self.CostofPrtrol//5}')\n",
    "        else:\n",
    "            print(f'per KM Milege of petrol car driven more than 1000 km is :{self.CostofPrtrol//7}')\n",
    "            \n",
    "    def VehicleType(self):\n",
    "        print(f'Type of Vehicle is : {self.typeofVehicle}')\n",
    "        \n",
    "        \n",
    "\n",
    "#Class EV\n",
    "class ElectronicVehicle(Car):\n",
    "    \n",
    "    typeofVehicle=\"Electronic Vehicle\"\n",
    "    \n",
    "    def __init__(self,AverageBatteyChargingPercent,KilometersDriven):\n",
    "        self.AverageBatteyChargingPercent=AverageBatteyChargingPercent\n",
    "        self.KilometersDriven=KilometersDriven\n",
    "        \n",
    "    def Mileage(self):\n",
    "        if self.KilometersDriven<1001:\n",
    "            print(f'Per full charge Mileage of EV car driven less than 1000 km is :{self.AverageBatteyChargingPercent*3}')\n",
    "        else:\n",
    "            print(f'Per full charge Milege of EV car driven more than 1000 km is :{self.AverageBatteyChargingPercent*1.5}')\n",
    "            \n",
    "    def VehicleType(self):\n",
    "        print(f'Type of Vehicle is : {self.typeofVehicle}')\n",
    "        \n",
    "        \n",
    "    \n",
    "        \n",
    "    \n"
   ]
  },
  {
   "cell_type": "code",
   "execution_count": 9,
   "id": "5cad5b37",
   "metadata": {},
   "outputs": [],
   "source": [
    "# Instantiating our instances\n",
    "PetrolCar=PetrolOrDieselCar(120,1000)\n",
    "EVCar=ElectronicVehicle(90,1000)"
   ]
  },
  {
   "cell_type": "code",
   "execution_count": 10,
   "id": "3bed3c6f",
   "metadata": {},
   "outputs": [
    {
     "name": "stdout",
     "output_type": "stream",
     "text": [
      "per KM Mileage of petrol car driven less than 1000 km is :24\n",
      "Per full charge Mileage of EV car driven less than 1000 km is :270\n"
     ]
    }
   ],
   "source": [
    "## Getting Mileage for Petrol and EV car\n",
    "PetrolCar.Mileage()\n",
    "EVCar.Mileage()"
   ]
  },
  {
   "cell_type": "code",
   "execution_count": 11,
   "id": "41b87f26",
   "metadata": {},
   "outputs": [
    {
     "name": "stdout",
     "output_type": "stream",
     "text": [
      "Type of Vehicle is : Petrol_or_Diesel_Car\n",
      "Type of Vehicle is : Electronic Vehicle\n"
     ]
    }
   ],
   "source": [
    "##Getting Type of vehicle from its instance\n",
    "PetrolCar.VehicleType()\n",
    "EVCar.VehicleType()"
   ]
  },
  {
   "cell_type": "code",
   "execution_count": null,
   "id": "09748ce2",
   "metadata": {},
   "outputs": [],
   "source": []
  },
  {
   "cell_type": "markdown",
   "id": "51dc924b",
   "metadata": {},
   "source": [
    "# Multiple Inheritance\n",
    "When class inherits from two or more classes , it is called as Multiple Inheritance.\n",
    "to extend multiple clasees ,we need to specify parent class inside () after class name of child class."
   ]
  },
  {
   "cell_type": "code",
   "execution_count": 12,
   "id": "eabc6527",
   "metadata": {},
   "outputs": [
    {
     "name": "stdout",
     "output_type": "stream",
     "text": [
      "Racing like a ghost\n",
      "Drifting like a pro\n",
      "Wait wait... we are servicing the car and changing the tyres!!\n"
     ]
    }
   ],
   "source": [
    "#Demo for Multiple Inheritance\n",
    "class Car:\n",
    "    def carServiceAndMaintainace(self):\n",
    "        print(\"Wait wait... we are servicing the car and changing the tyres!!\")\n",
    "    \n",
    "\n",
    "class Racing:\n",
    "    def race(self):\n",
    "        print('Racing like a ghost')\n",
    "    def drift(self):\n",
    "        print('Drifting like a pro')\n",
    "        \n",
    "        \n",
    "class RacingCar(Racing,Car):\n",
    "    pass\n",
    "\n",
    "#Prepare our car for racing\n",
    "FormulaOne=RacingCar()\n",
    "\n",
    "## race ,drift and then service our car\n",
    "FormulaOne.race()\n",
    "FormulaOne.drift()\n",
    "FormulaOne.carServiceAndMaintainace()\n",
    "\n"
   ]
  },
  {
   "cell_type": "code",
   "execution_count": null,
   "id": "cc399f23",
   "metadata": {},
   "outputs": [],
   "source": []
  },
  {
   "cell_type": "markdown",
   "id": "84253e84",
   "metadata": {},
   "source": [
    "# Decorators\n",
    "Decorators allow us to wrap another function in order to extend the behaviour of the wrapped function, without permanently modifying it. "
   ]
  },
  {
   "cell_type": "code",
   "execution_count": 13,
   "id": "7c9ca6b5",
   "metadata": {},
   "outputs": [
    {
     "data": {
      "text/plain": [
       "'Ohh no!! we cant divide by Zero.'"
      ]
     },
     "execution_count": 13,
     "metadata": {},
     "output_type": "execute_result"
    }
   ],
   "source": [
    "#Demo for Decorators\n",
    "\n",
    "def smart_division(func):\n",
    "    def inner(a,b):\n",
    "        if b==0:\n",
    "            return (\"Ohh no!! we cant divide by Zero.\")\n",
    "        else:\n",
    "            return func(a,b)\n",
    "    return inner\n",
    "\n",
    "\n",
    "\n",
    "def divideMe(a,b):\n",
    "    return a/b\n",
    "\n",
    "\n",
    "\n",
    "DecoratorObject=smart_division(divideMe)\n",
    "\n",
    "DecoratorObject(15,3)\n",
    "DecoratorObject(15,0)"
   ]
  },
  {
   "cell_type": "code",
   "execution_count": 14,
   "id": "8330186a",
   "metadata": {},
   "outputs": [
    {
     "data": {
      "text/plain": [
       "'Ohh no!! we cant divide by Zero.'"
      ]
     },
     "execution_count": 14,
     "metadata": {},
     "output_type": "execute_result"
    }
   ],
   "source": [
    "# lets do above thing in smarter way \n",
    "def smart_division(func):\n",
    "    def inner(a,b):\n",
    "        if b==0:\n",
    "            return (\"Ohh no!! we cant divide by Zero.\")\n",
    "        else:\n",
    "            return func(a,b)\n",
    "    return inner\n",
    "\n",
    "\n",
    "@smart_division\n",
    "def divideMe(a,b):\n",
    "    return a/b\n",
    "\n",
    "divideMe(15,0)"
   ]
  },
  {
   "cell_type": "code",
   "execution_count": null,
   "id": "0a0a9776",
   "metadata": {},
   "outputs": [],
   "source": [
    "pwd"
   ]
  }
 ],
 "metadata": {
  "kernelspec": {
   "display_name": "Python 3",
   "language": "python",
   "name": "python3"
  },
  "language_info": {
   "codemirror_mode": {
    "name": "ipython",
    "version": 3
   },
   "file_extension": ".py",
   "mimetype": "text/x-python",
   "name": "python",
   "nbconvert_exporter": "python",
   "pygments_lexer": "ipython3",
   "version": "3.8.8"
  }
 },
 "nbformat": 4,
 "nbformat_minor": 5
}
